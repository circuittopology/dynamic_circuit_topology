{
 "cells": [
  {
   "cell_type": "code",
   "execution_count": 3,
   "metadata": {},
   "outputs": [],
   "source": [
    "import numpy as np\n",
    "import matplotlib.pyplot as plt\n",
    "%matplotlib inline\n",
    "import seaborn as sns\n",
    "import scipy as sy\n",
    "import scipy.stats as ss\n",
    "import scipy.signal\n",
    "import pandas as pd\n",
    "import PIL.Image\n",
    "import os\n",
    "\n",
    "import dynamics as dyn\n",
    "\n",
    "from functions.plotting_tools import save_figures\n",
    "from functions.plotting_tools import set_layout"
   ]
  },
  {
   "cell_type": "code",
   "execution_count": 26,
   "metadata": {},
   "outputs": [],
   "source": [
    "def format_name_frame (frame, max_digit = 4):\n",
    "    count_str=str(frame)\n",
    "    size=len(count_str)\n",
    "    zeros='0'*(max_digit-size)\n",
    "    name='{}{}'.format(zeros, frame)\n",
    "    return name"
   ]
  },
  {
   "cell_type": "code",
   "execution_count": 31,
   "metadata": {},
   "outputs": [
    {
     "name": "stdout",
     "output_type": "stream",
     "text": [
      "Number of frames: 1002\n"
     ]
    }
   ],
   "source": [
    "path_cmaps ='cmaps/AR/run2'\n",
    "files = os.listdir(path_cmaps)\n",
    "files_csv = [f for f in files if f[-3:] == 'csv']\n",
    "len_dataset=len(files_csv)\n",
    "cmap= pd.read_csv('{}/{}'.format(path_cmaps, files_csv[0]), header=None)\n",
    "\n",
    "len_map=cmap.shape[0]\n",
    "\n",
    "print('Number of frames: {}'.format(len_dataset))"
   ]
  },
  {
   "cell_type": "code",
   "execution_count": 32,
   "metadata": {},
   "outputs": [],
   "source": [
    "split = 224\n",
    "folder_NR = 'cmaps/AR NR/run1'\n",
    "folder_CR = 'cmaps/AR CR/run1'\n",
    "cmap_NR = np.zeros((len_dataset, split, split))\n",
    "cmap_CR = np.zeros((len_dataset, len_map - split, len_map - split))\n",
    "\n",
    "\n",
    "for t, file in enumerate(files_csv):\n",
    "    cmap = pd.read_csv(f'{path_cmaps}/{file}', header = None)\n",
    "    cmap = np.array(cmap)\n",
    "    cmap_NR[t, : , :] = cmap[0:split, 0:split]\n",
    "    cmap_CR[t, :, :] = cmap[split: len(cmap), split: len(cmap)]\n",
    "    \n",
    "    df_NR = pd.DataFrame(cmap_NR[t,:,:])\n",
    "    df_CR = pd.DataFrame(cmap_CR[t,:,:])\n",
    "    \n",
    "    frame_string = format_name_frame(t)\n",
    "    df_NR.to_csv(f'{folder_NR}/{frame_string}_cmap.csv')\n",
    "    df_CR.to_csv(f'{folder_CR}/{frame_string}_cmap.csv')"
   ]
  },
  {
   "cell_type": "code",
   "execution_count": null,
   "metadata": {},
   "outputs": [],
   "source": []
  }
 ],
 "metadata": {
  "kernelspec": {
   "display_name": "Python 3 (ipykernel)",
   "language": "python",
   "name": "python3"
  },
  "language_info": {
   "codemirror_mode": {
    "name": "ipython",
    "version": 3
   },
   "file_extension": ".py",
   "mimetype": "text/x-python",
   "name": "python",
   "nbconvert_exporter": "python",
   "pygments_lexer": "ipython3",
   "version": "3.7.7"
  }
 },
 "nbformat": 4,
 "nbformat_minor": 4
}
