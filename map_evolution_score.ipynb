{
 "cells": [
  {
   "cell_type": "code",
   "execution_count": 2,
   "metadata": {},
   "outputs": [],
   "source": [
    "import numpy as np\n",
    "import matplotlib.pyplot as plt\n",
    "import matplotlib\n",
    "%matplotlib inline\n",
    "import seaborn as sns\n",
    "import pandas as pd\n",
    "from functions.plotting_tools import set_layout\n",
    "pd.options.mode.chained_assignment = None  # default='warn'\n",
    "from functions.plotting_tools import save_figures"
   ]
  },
  {
   "cell_type": "code",
   "execution_count": 71,
   "metadata": {},
   "outputs": [],
   "source": [
    "life= 'short life'\n",
    "runs=['run1','run2','run3']\n",
    "proteins=['NR','CR','ER']\n",
    "evol_array=[]\n",
    "path_figures= 'results/clustering/figures'\n",
    "\n",
    "    \n",
    "name_file='evol'\n",
    "for run in runs:\n",
    "    name_file_run='{}_{}'.format(name_file, run)\n",
    "    for protein in proteins:\n",
    "        path='results/clustering/{}'.format(protein)\n",
    "        name_file_prot='{}_{}_{}.csv'.format(name_file_run, protein, life)\n",
    "        file=pd.read_csv('{}/{}'.format(path, name_file_prot), header=None)\n",
    "        evolution = np.mean(file[0])\n",
    "        evolution= round(evolution, 2)\n",
    "        evol_array.append(evolution)\n",
    "\n",
    "evol_array=np.array(evol_array)\n",
    "evol_array = np.reshape(evol_array, (3,3))\n",
    "evol_array = np.transpose(evol_array)"
   ]
  },
  {
   "cell_type": "code",
   "execution_count": 72,
   "metadata": {},
   "outputs": [
    {
     "data": {
      "text/plain": [
       "array([[0.83, 0.77, 0.76],\n",
       "       [0.54, 0.63, 0.5 ],\n",
       "       [0.68, 0.76, 1.02]])"
      ]
     },
     "execution_count": 72,
     "metadata": {},
     "output_type": "execute_result"
    }
   ],
   "source": [
    "evol_array"
   ]
  },
  {
   "cell_type": "code",
   "execution_count": 73,
   "metadata": {},
   "outputs": [
    {
     "data": {
      "image/png": "[encoded data removed]",
      "text/plain": [
       "<Figure size 432x288 with 2 Axes>"
      ]
     },
     "metadata": {
      "needs_background": "light"
     },
     "output_type": "display_data"
    }
   ],
   "source": [
    "set_layout()\n",
    "cmap='Greens'\n",
    "fig = plt.figure(figsize=(6,4))\n",
    "ax = sns.heatmap(evol_array, cmap=cmap, annot=True, xticklabels=runs, yticklabels=proteins, vmin=0, vmax=1.02)\n",
    "ax.xaxis.tick_top() # x axis on top\n",
    "ax.xaxis.set_label_position('top')\n",
    "ax.set_title('{}'.format(life.upper()), pad=20);\n",
    "\n",
    "save_figures(fig,path=path_figures, name_file= 'evolscores_{}'.format(life))"
   ]
  },
  {
   "cell_type": "code",
   "execution_count": 39,
   "metadata": {},
   "outputs": [],
   "source": []
  },
  {
   "cell_type": "code",
   "execution_count": null,
   "metadata": {},
   "outputs": [],
   "source": []
  }
 ],
 "metadata": {
  "kernelspec": {
   "display_name": "Python 3 (ipykernel)",
   "language": "python",
   "name": "python3"
  },
  "language_info": {
   "codemirror_mode": {
    "name": "ipython",
    "version": 3
   },
   "file_extension": ".py",
   "mimetype": "text/x-python",
   "name": "python",
   "nbconvert_exporter": "python",
   "pygments_lexer": "ipython3",
   "version": "3.7.7"
  }
 },
 "nbformat": 4,
 "nbformat_minor": 4
}
